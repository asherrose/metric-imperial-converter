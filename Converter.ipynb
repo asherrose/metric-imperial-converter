{
 "cells": [
  {
   "cell_type": "code",
   "execution_count": null,
   "metadata": {},
   "outputs": [
    {
     "name": "stdout",
     "output_type": "stream",
     "text": [
      "What type of data do you want to convert? (length, area, weight, temperature)length\n",
      "To metric or to imperial?metric\n"
     ]
    }
   ],
   "source": [
    "typeOfData = input (\"What type of data do you want to convert? (length, area, weight, temperature)\")\n",
    "toWhat = input (\"To metric or to imperial?\")\n",
    "while (typeOfData!=\"length\" or typeOfData!=\"area\" or typeOfData!=\"weight\" or typeOfData!=\"temperature\"):\n",
    "    typeOfData = input (\"Not a valid type. What type of data do you want to convert? (length, area, weight, temperature)\")\n",
    "while (toWhat!=\"metric\" or toWhat!=\"standard\"):\n",
    "    toWhat = input (\"Not valid option. To metric or to imperial?\")"
   ]
  },
  {
   "cell_type": "code",
   "execution_count": null,
   "metadata": {},
   "outputs": [],
   "source": [
    "if (typeOfData==length):\n",
    "    if (toWhat==metric):\n",
    "        data = int (input (\"Enter your length in inches\"))\n",
    "        convert = data*2.54\n",
    "        print (\"Length in centimeters {}, length in meters {}\".format(data,data/100))"
   ]
  },
  {
   "cell_type": "code",
   "execution_count": null,
   "metadata": {},
   "outputs": [],
   "source": []
  }
 ],
 "metadata": {
  "kernelspec": {
   "display_name": "Python 3",
   "language": "python",
   "name": "python3"
  },
  "language_info": {
   "codemirror_mode": {
    "name": "ipython",
    "version": 3
   },
   "file_extension": ".py",
   "mimetype": "text/x-python",
   "name": "python",
   "nbconvert_exporter": "python",
   "pygments_lexer": "ipython3",
   "version": "3.7.3"
  }
 },
 "nbformat": 4,
 "nbformat_minor": 2
}
